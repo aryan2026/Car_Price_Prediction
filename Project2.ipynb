{
 "cells": [
  {
   "cell_type": "code",
   "execution_count": 1,
   "id": "1be51fb9-78be-4064-875b-0234036c7c8f",
   "metadata": {},
   "outputs": [],
   "source": [
    "import pandas as pd\n",
    "import numpy as np\n",
    "import matplotlib.pyplot as plt\n",
    "import seaborn as sns"
   ]
  },
  {
   "cell_type": "code",
   "execution_count": 4,
   "id": "3fce20c7-b392-4500-81d3-0085983a4e21",
   "metadata": {},
   "outputs": [],
   "source": [
    "car_data = pd.read_csv('Car_Price_Dataset.csv')"
   ]
  },
  {
   "cell_type": "code",
   "execution_count": 5,
   "id": "ef813820-2035-4212-93fa-1657c185736f",
   "metadata": {},
   "outputs": [
    {
     "data": {
      "text/html": [
       "<div>\n",
       "<style scoped>\n",
       "    .dataframe tbody tr th:only-of-type {\n",
       "        vertical-align: middle;\n",
       "    }\n",
       "\n",
       "    .dataframe tbody tr th {\n",
       "        vertical-align: top;\n",
       "    }\n",
       "\n",
       "    .dataframe thead th {\n",
       "        text-align: right;\n",
       "    }\n",
       "</style>\n",
       "<table border=\"1\" class=\"dataframe\">\n",
       "  <thead>\n",
       "    <tr style=\"text-align: right;\">\n",
       "      <th></th>\n",
       "      <th>Unnamed: 0</th>\n",
       "      <th>Make</th>\n",
       "      <th>Engine Fuel Type</th>\n",
       "      <th>Engine HP</th>\n",
       "      <th>Engine Cylinders</th>\n",
       "      <th>Transmission Type</th>\n",
       "      <th>Driven_Wheels</th>\n",
       "      <th>Vehicle Size</th>\n",
       "      <th>city mpg</th>\n",
       "      <th>Popularity</th>\n",
       "      <th>MSRP</th>\n",
       "    </tr>\n",
       "  </thead>\n",
       "  <tbody>\n",
       "    <tr>\n",
       "      <th>0</th>\n",
       "      <td>479</td>\n",
       "      <td>Toyota</td>\n",
       "      <td>regular unleaded</td>\n",
       "      <td>270.0</td>\n",
       "      <td>6.0</td>\n",
       "      <td>AUTOMATIC</td>\n",
       "      <td>rear wheel drive</td>\n",
       "      <td>Midsize</td>\n",
       "      <td>17</td>\n",
       "      <td>2031</td>\n",
       "      <td>41365</td>\n",
       "    </tr>\n",
       "    <tr>\n",
       "      <th>1</th>\n",
       "      <td>480</td>\n",
       "      <td>Toyota</td>\n",
       "      <td>regular unleaded</td>\n",
       "      <td>270.0</td>\n",
       "      <td>6.0</td>\n",
       "      <td>AUTOMATIC</td>\n",
       "      <td>rear wheel drive</td>\n",
       "      <td>Midsize</td>\n",
       "      <td>17</td>\n",
       "      <td>2031</td>\n",
       "      <td>35740</td>\n",
       "    </tr>\n",
       "    <tr>\n",
       "      <th>2</th>\n",
       "      <td>481</td>\n",
       "      <td>Toyota</td>\n",
       "      <td>regular unleaded</td>\n",
       "      <td>270.0</td>\n",
       "      <td>6.0</td>\n",
       "      <td>AUTOMATIC</td>\n",
       "      <td>four wheel drive</td>\n",
       "      <td>Midsize</td>\n",
       "      <td>17</td>\n",
       "      <td>2031</td>\n",
       "      <td>37615</td>\n",
       "    </tr>\n",
       "    <tr>\n",
       "      <th>3</th>\n",
       "      <td>482</td>\n",
       "      <td>Toyota</td>\n",
       "      <td>regular unleaded</td>\n",
       "      <td>270.0</td>\n",
       "      <td>6.0</td>\n",
       "      <td>AUTOMATIC</td>\n",
       "      <td>four wheel drive</td>\n",
       "      <td>Midsize</td>\n",
       "      <td>17</td>\n",
       "      <td>2031</td>\n",
       "      <td>34695</td>\n",
       "    </tr>\n",
       "    <tr>\n",
       "      <th>4</th>\n",
       "      <td>483</td>\n",
       "      <td>Toyota</td>\n",
       "      <td>regular unleaded</td>\n",
       "      <td>270.0</td>\n",
       "      <td>6.0</td>\n",
       "      <td>AUTOMATIC</td>\n",
       "      <td>four wheel drive</td>\n",
       "      <td>Midsize</td>\n",
       "      <td>17</td>\n",
       "      <td>2031</td>\n",
       "      <td>35725</td>\n",
       "    </tr>\n",
       "  </tbody>\n",
       "</table>\n",
       "</div>"
      ],
      "text/plain": [
       "   Unnamed: 0    Make  Engine Fuel Type  Engine HP  Engine Cylinders  \\\n",
       "0         479  Toyota  regular unleaded      270.0               6.0   \n",
       "1         480  Toyota  regular unleaded      270.0               6.0   \n",
       "2         481  Toyota  regular unleaded      270.0               6.0   \n",
       "3         482  Toyota  regular unleaded      270.0               6.0   \n",
       "4         483  Toyota  regular unleaded      270.0               6.0   \n",
       "\n",
       "  Transmission Type     Driven_Wheels Vehicle Size  city mpg  Popularity  \\\n",
       "0         AUTOMATIC  rear wheel drive      Midsize        17        2031   \n",
       "1         AUTOMATIC  rear wheel drive      Midsize        17        2031   \n",
       "2         AUTOMATIC  four wheel drive      Midsize        17        2031   \n",
       "3         AUTOMATIC  four wheel drive      Midsize        17        2031   \n",
       "4         AUTOMATIC  four wheel drive      Midsize        17        2031   \n",
       "\n",
       "    MSRP  \n",
       "0  41365  \n",
       "1  35740  \n",
       "2  37615  \n",
       "3  34695  \n",
       "4  35725  "
      ]
     },
     "execution_count": 5,
     "metadata": {},
     "output_type": "execute_result"
    }
   ],
   "source": [
    "car_data.head()"
   ]
  },
  {
   "cell_type": "code",
   "execution_count": 6,
   "id": "6c959cdf-facb-4180-8ada-cf8837157e13",
   "metadata": {},
   "outputs": [
    {
     "data": {
      "text/plain": [
       "(2112, 11)"
      ]
     },
     "execution_count": 6,
     "metadata": {},
     "output_type": "execute_result"
    }
   ],
   "source": [
    "car_data.shape"
   ]
  },
  {
   "cell_type": "code",
   "execution_count": 7,
   "id": "a35f7c6f-a54a-4605-8489-b66779cbe190",
   "metadata": {},
   "outputs": [
    {
     "data": {
      "text/plain": [
       "Index(['Unnamed: 0', 'Make', 'Engine Fuel Type', 'Engine HP',\n",
       "       'Engine Cylinders', 'Transmission Type', 'Driven_Wheels',\n",
       "       'Vehicle Size', 'city mpg', 'Popularity', 'MSRP'],\n",
       "      dtype='object')"
      ]
     },
     "execution_count": 7,
     "metadata": {},
     "output_type": "execute_result"
    }
   ],
   "source": [
    "car_data.columns"
   ]
  },
  {
   "cell_type": "code",
   "execution_count": 9,
   "id": "daa70f28-ecf4-4704-8e0e-7a6eb828e817",
   "metadata": {},
   "outputs": [
    {
     "name": "stdout",
     "output_type": "stream",
     "text": [
      "<class 'pandas.core.frame.DataFrame'>\n",
      "RangeIndex: 2112 entries, 0 to 2111\n",
      "Data columns (total 11 columns):\n",
      " #   Column             Non-Null Count  Dtype  \n",
      "---  ------             --------------  -----  \n",
      " 0   Unnamed: 0         2112 non-null   int64  \n",
      " 1   Make               2112 non-null   object \n",
      " 2   Engine Fuel Type   2112 non-null   object \n",
      " 3   Engine HP          2097 non-null   float64\n",
      " 4   Engine Cylinders   2107 non-null   float64\n",
      " 5   Transmission Type  2112 non-null   object \n",
      " 6   Driven_Wheels      2112 non-null   object \n",
      " 7   Vehicle Size       2112 non-null   object \n",
      " 8   city mpg           2112 non-null   int64  \n",
      " 9   Popularity         2112 non-null   int64  \n",
      " 10  MSRP               2112 non-null   int64  \n",
      "dtypes: float64(2), int64(4), object(5)\n",
      "memory usage: 181.6+ KB\n"
     ]
    }
   ],
   "source": [
    "car_data.info()"
   ]
  },
  {
   "cell_type": "markdown",
   "id": "396a53b9-6780-4157-90ae-3de50d1b1633",
   "metadata": {},
   "source": [
    "#Dropping Unecessary Columns"
   ]
  },
  {
   "cell_type": "code",
   "execution_count": 16,
   "id": "8addf47a-15aa-42fb-a9e6-3c5806d2c572",
   "metadata": {},
   "outputs": [],
   "source": [
    "car_data = car_data.drop(['Unnamed: 0'],axis=1)"
   ]
  },
  {
   "cell_type": "markdown",
   "id": "1337cd6e-d838-4789-ba62-91a8a85b7d9a",
   "metadata": {},
   "source": [
    "#Renaiming Columns"
   ]
  },
  {
   "cell_type": "code",
   "execution_count": 18,
   "id": "0811e83e-896f-4cc2-a19b-9ef9e449ac1c",
   "metadata": {},
   "outputs": [],
   "source": [
    "car_data1 = car_data.rename(columns = {'Engine Fuel Type':'Fuel_Type','Engine HP':'Power_HP','Engine Cylinders':'No_of_Cylinders','Transmission Type':'Transmission','Vehicle Size':'vehicle_size','city mpg':'Mileage_mpg'})"
   ]
  },
  {
   "cell_type": "code",
   "execution_count": 20,
   "id": "8618009b-d7a4-4b88-86d1-1833eb7a5f91",
   "metadata": {},
   "outputs": [
    {
     "data": {
      "text/plain": [
       "Index(['Make', 'Fuel_Type', 'Power_HP', 'No_of_Cylinders', 'Transmission',\n",
       "       'Driven_Wheels', 'vehicle_size', 'Mileage_mpg', 'Popularity', 'MSRP'],\n",
       "      dtype='object')"
      ]
     },
     "execution_count": 20,
     "metadata": {},
     "output_type": "execute_result"
    }
   ],
   "source": [
    "car_data1.columns"
   ]
  },
  {
   "cell_type": "code",
   "execution_count": 22,
   "id": "22e20264-ce1a-4bc4-b23f-f8c4352ea782",
   "metadata": {},
   "outputs": [
    {
     "data": {
      "text/html": [
       "<div>\n",
       "<style scoped>\n",
       "    .dataframe tbody tr th:only-of-type {\n",
       "        vertical-align: middle;\n",
       "    }\n",
       "\n",
       "    .dataframe tbody tr th {\n",
       "        vertical-align: top;\n",
       "    }\n",
       "\n",
       "    .dataframe thead th {\n",
       "        text-align: right;\n",
       "    }\n",
       "</style>\n",
       "<table border=\"1\" class=\"dataframe\">\n",
       "  <thead>\n",
       "    <tr style=\"text-align: right;\">\n",
       "      <th></th>\n",
       "      <th>Make</th>\n",
       "      <th>Fuel_Type</th>\n",
       "      <th>Power_HP</th>\n",
       "      <th>No_of_Cylinders</th>\n",
       "      <th>Transmission</th>\n",
       "      <th>Driven_Wheels</th>\n",
       "      <th>vehicle_size</th>\n",
       "      <th>Mileage_mpg</th>\n",
       "      <th>Popularity</th>\n",
       "      <th>MSRP</th>\n",
       "    </tr>\n",
       "  </thead>\n",
       "  <tbody>\n",
       "    <tr>\n",
       "      <th>1</th>\n",
       "      <td>Toyota</td>\n",
       "      <td>regular unleaded</td>\n",
       "      <td>270.0</td>\n",
       "      <td>6.0</td>\n",
       "      <td>AUTOMATIC</td>\n",
       "      <td>rear wheel drive</td>\n",
       "      <td>Midsize</td>\n",
       "      <td>17</td>\n",
       "      <td>2031</td>\n",
       "      <td>35740</td>\n",
       "    </tr>\n",
       "    <tr>\n",
       "      <th>3</th>\n",
       "      <td>Toyota</td>\n",
       "      <td>regular unleaded</td>\n",
       "      <td>270.0</td>\n",
       "      <td>6.0</td>\n",
       "      <td>AUTOMATIC</td>\n",
       "      <td>four wheel drive</td>\n",
       "      <td>Midsize</td>\n",
       "      <td>17</td>\n",
       "      <td>2031</td>\n",
       "      <td>34695</td>\n",
       "    </tr>\n",
       "    <tr>\n",
       "      <th>4</th>\n",
       "      <td>Toyota</td>\n",
       "      <td>regular unleaded</td>\n",
       "      <td>270.0</td>\n",
       "      <td>6.0</td>\n",
       "      <td>AUTOMATIC</td>\n",
       "      <td>four wheel drive</td>\n",
       "      <td>Midsize</td>\n",
       "      <td>17</td>\n",
       "      <td>2031</td>\n",
       "      <td>35725</td>\n",
       "    </tr>\n",
       "    <tr>\n",
       "      <th>5</th>\n",
       "      <td>Toyota</td>\n",
       "      <td>regular unleaded</td>\n",
       "      <td>270.0</td>\n",
       "      <td>6.0</td>\n",
       "      <td>AUTOMATIC</td>\n",
       "      <td>four wheel drive</td>\n",
       "      <td>Midsize</td>\n",
       "      <td>17</td>\n",
       "      <td>2031</td>\n",
       "      <td>43400</td>\n",
       "    </tr>\n",
       "    <tr>\n",
       "      <th>6</th>\n",
       "      <td>Toyota</td>\n",
       "      <td>regular unleaded</td>\n",
       "      <td>270.0</td>\n",
       "      <td>6.0</td>\n",
       "      <td>AUTOMATIC</td>\n",
       "      <td>rear wheel drive</td>\n",
       "      <td>Midsize</td>\n",
       "      <td>17</td>\n",
       "      <td>2031</td>\n",
       "      <td>32820</td>\n",
       "    </tr>\n",
       "    <tr>\n",
       "      <th>...</th>\n",
       "      <td>...</td>\n",
       "      <td>...</td>\n",
       "      <td>...</td>\n",
       "      <td>...</td>\n",
       "      <td>...</td>\n",
       "      <td>...</td>\n",
       "      <td>...</td>\n",
       "      <td>...</td>\n",
       "      <td>...</td>\n",
       "      <td>...</td>\n",
       "    </tr>\n",
       "    <tr>\n",
       "      <th>2107</th>\n",
       "      <td>Toyota</td>\n",
       "      <td>regular unleaded</td>\n",
       "      <td>106.0</td>\n",
       "      <td>4.0</td>\n",
       "      <td>MANUAL</td>\n",
       "      <td>front wheel drive</td>\n",
       "      <td>Compact</td>\n",
       "      <td>30</td>\n",
       "      <td>2031</td>\n",
       "      <td>15250</td>\n",
       "    </tr>\n",
       "    <tr>\n",
       "      <th>2108</th>\n",
       "      <td>Toyota</td>\n",
       "      <td>regular unleaded</td>\n",
       "      <td>106.0</td>\n",
       "      <td>4.0</td>\n",
       "      <td>AUTOMATIC</td>\n",
       "      <td>front wheel drive</td>\n",
       "      <td>Compact</td>\n",
       "      <td>30</td>\n",
       "      <td>2031</td>\n",
       "      <td>16375</td>\n",
       "    </tr>\n",
       "    <tr>\n",
       "      <th>2109</th>\n",
       "      <td>Toyota</td>\n",
       "      <td>regular unleaded</td>\n",
       "      <td>106.0</td>\n",
       "      <td>4.0</td>\n",
       "      <td>AUTOMATIC</td>\n",
       "      <td>front wheel drive</td>\n",
       "      <td>Compact</td>\n",
       "      <td>30</td>\n",
       "      <td>2031</td>\n",
       "      <td>17285</td>\n",
       "    </tr>\n",
       "    <tr>\n",
       "      <th>2110</th>\n",
       "      <td>Toyota</td>\n",
       "      <td>regular unleaded</td>\n",
       "      <td>106.0</td>\n",
       "      <td>4.0</td>\n",
       "      <td>AUTOMATIC</td>\n",
       "      <td>front wheel drive</td>\n",
       "      <td>Compact</td>\n",
       "      <td>30</td>\n",
       "      <td>2031</td>\n",
       "      <td>18000</td>\n",
       "    </tr>\n",
       "    <tr>\n",
       "      <th>2111</th>\n",
       "      <td>Toyota</td>\n",
       "      <td>regular unleaded</td>\n",
       "      <td>106.0</td>\n",
       "      <td>4.0</td>\n",
       "      <td>MANUAL</td>\n",
       "      <td>front wheel drive</td>\n",
       "      <td>Compact</td>\n",
       "      <td>30</td>\n",
       "      <td>2031</td>\n",
       "      <td>17200</td>\n",
       "    </tr>\n",
       "  </tbody>\n",
       "</table>\n",
       "<p>1706 rows × 10 columns</p>\n",
       "</div>"
      ],
      "text/plain": [
       "        Make         Fuel_Type  Power_HP  No_of_Cylinders Transmission  \\\n",
       "1     Toyota  regular unleaded     270.0              6.0    AUTOMATIC   \n",
       "3     Toyota  regular unleaded     270.0              6.0    AUTOMATIC   \n",
       "4     Toyota  regular unleaded     270.0              6.0    AUTOMATIC   \n",
       "5     Toyota  regular unleaded     270.0              6.0    AUTOMATIC   \n",
       "6     Toyota  regular unleaded     270.0              6.0    AUTOMATIC   \n",
       "...      ...               ...       ...              ...          ...   \n",
       "2107  Toyota  regular unleaded     106.0              4.0       MANUAL   \n",
       "2108  Toyota  regular unleaded     106.0              4.0    AUTOMATIC   \n",
       "2109  Toyota  regular unleaded     106.0              4.0    AUTOMATIC   \n",
       "2110  Toyota  regular unleaded     106.0              4.0    AUTOMATIC   \n",
       "2111  Toyota  regular unleaded     106.0              4.0       MANUAL   \n",
       "\n",
       "          Driven_Wheels vehicle_size  Mileage_mpg  Popularity   MSRP  \n",
       "1      rear wheel drive      Midsize           17        2031  35740  \n",
       "3      four wheel drive      Midsize           17        2031  34695  \n",
       "4      four wheel drive      Midsize           17        2031  35725  \n",
       "5      four wheel drive      Midsize           17        2031  43400  \n",
       "6      rear wheel drive      Midsize           17        2031  32820  \n",
       "...                 ...          ...          ...         ...    ...  \n",
       "2107  front wheel drive      Compact           30        2031  15250  \n",
       "2108  front wheel drive      Compact           30        2031  16375  \n",
       "2109  front wheel drive      Compact           30        2031  17285  \n",
       "2110  front wheel drive      Compact           30        2031  18000  \n",
       "2111  front wheel drive      Compact           30        2031  17200  \n",
       "\n",
       "[1706 rows x 10 columns]"
      ]
     },
     "execution_count": 22,
     "metadata": {},
     "output_type": "execute_result"
    }
   ],
   "source": [
    "car_data1[car_data1.duplicated(subset =['Make', 'Fuel_Type', 'Power_HP', 'No_of_Cylinders', 'Transmission',\n",
    "       'Driven_Wheels', 'vehicle_size', 'Mileage_mpg', 'Popularity'], keep = 'first')]"
   ]
  },
  {
   "cell_type": "code",
   "execution_count": 26,
   "id": "b05b3e86-11a9-45ce-8a8e-69980cd97242",
   "metadata": {},
   "outputs": [],
   "source": [
    "car_data2=car_data1.drop_duplicates(subset =['Make', 'Fuel_Type', 'Power_HP', 'No_of_Cylinders', 'Transmission',\n",
    "       'Driven_Wheels', 'vehicle_size', 'Mileage_mpg', 'Popularity'], keep = 'first')"
   ]
  },
  {
   "cell_type": "code",
   "execution_count": 27,
   "id": "3a701308-1cad-4101-927b-8422baebb066",
   "metadata": {},
   "outputs": [
    {
     "data": {
      "text/plain": [
       "(406, 10)"
      ]
     },
     "execution_count": 27,
     "metadata": {},
     "output_type": "execute_result"
    }
   ],
   "source": [
    "car_data2.shape"
   ]
  },
  {
   "cell_type": "code",
   "execution_count": 28,
   "id": "cf1ab31d-9679-440b-9e63-20301daabf5e",
   "metadata": {},
   "outputs": [
    {
     "data": {
      "text/plain": [
       "Make               0\n",
       "Fuel_Type          0\n",
       "Power_HP           5\n",
       "No_of_Cylinders    2\n",
       "Transmission       0\n",
       "Driven_Wheels      0\n",
       "vehicle_size       0\n",
       "Mileage_mpg        0\n",
       "Popularity         0\n",
       "MSRP               0\n",
       "dtype: int64"
      ]
     },
     "execution_count": 28,
     "metadata": {},
     "output_type": "execute_result"
    }
   ],
   "source": [
    "car_data2.isnull().sum()"
   ]
  },
  {
   "cell_type": "code",
   "execution_count": 30,
   "id": "94cb2389-0602-4b6d-bf0b-d090acee02fa",
   "metadata": {},
   "outputs": [
    {
     "data": {
      "text/plain": [
       "214.00498753117208"
      ]
     },
     "execution_count": 30,
     "metadata": {},
     "output_type": "execute_result"
    }
   ],
   "source": [
    "power_mean = car_data2['Power_HP'].mean()\n",
    "power_mean"
   ]
  },
  {
   "cell_type": "code",
   "execution_count": 32,
   "id": "90d3edbb-8236-4f87-9fc4-bf2161e9fe0b",
   "metadata": {},
   "outputs": [
    {
     "data": {
      "text/plain": [
       "4.0"
      ]
     },
     "execution_count": 32,
     "metadata": {},
     "output_type": "execute_result"
    }
   ],
   "source": [
    "cylinder_mode = car_data2['No_of_Cylinders'].mode()\n",
    "cylinder_mode[0]"
   ]
  },
  {
   "cell_type": "code",
   "execution_count": 33,
   "id": "b96d5733-6728-4fdb-946e-098f8bf17601",
   "metadata": {},
   "outputs": [
    {
     "name": "stderr",
     "output_type": "stream",
     "text": [
      "C:\\Users\\ARYAN SHRIVASTAV\\AppData\\Local\\Temp\\ipykernel_16772\\2827647396.py:1: SettingWithCopyWarning: \n",
      "A value is trying to be set on a copy of a slice from a DataFrame.\n",
      "Try using .loc[row_indexer,col_indexer] = value instead\n",
      "\n",
      "See the caveats in the documentation: https://pandas.pydata.org/pandas-docs/stable/user_guide/indexing.html#returning-a-view-versus-a-copy\n",
      "  car_data2['Power_HP'] = car_data2['Power_HP'].fillna(power_mean)\n",
      "C:\\Users\\ARYAN SHRIVASTAV\\AppData\\Local\\Temp\\ipykernel_16772\\2827647396.py:2: SettingWithCopyWarning: \n",
      "A value is trying to be set on a copy of a slice from a DataFrame.\n",
      "Try using .loc[row_indexer,col_indexer] = value instead\n",
      "\n",
      "See the caveats in the documentation: https://pandas.pydata.org/pandas-docs/stable/user_guide/indexing.html#returning-a-view-versus-a-copy\n",
      "  car_data2['No_of_Cylinders'] = car_data2['No_of_Cylinders'].fillna(cylinder_mode[0])\n"
     ]
    }
   ],
   "source": [
    "car_data2['Power_HP'] = car_data2['Power_HP'].fillna(power_mean)\n",
    "car_data2['No_of_Cylinders'] = car_data2['No_of_Cylinders'].fillna(cylinder_mode[0])"
   ]
  },
  {
   "cell_type": "code",
   "execution_count": 34,
   "id": "e6f033f8-032d-47e9-81ee-87c6b895923f",
   "metadata": {},
   "outputs": [
    {
     "data": {
      "text/plain": [
       "Make               0\n",
       "Fuel_Type          0\n",
       "Power_HP           0\n",
       "No_of_Cylinders    0\n",
       "Transmission       0\n",
       "Driven_Wheels      0\n",
       "vehicle_size       0\n",
       "Mileage_mpg        0\n",
       "Popularity         0\n",
       "MSRP               0\n",
       "dtype: int64"
      ]
     },
     "execution_count": 34,
     "metadata": {},
     "output_type": "execute_result"
    }
   ],
   "source": [
    "car_data2.isnull().sum()"
   ]
  },
  {
   "cell_type": "markdown",
   "id": "355edc5d-9dfe-4cbc-a37a-fd80e078b3af",
   "metadata": {},
   "source": [
    "#EDA(Exploratory Data Analysis)"
   ]
  },
  {
   "cell_type": "code",
   "execution_count": 35,
   "id": "ad196f59-f102-44b5-9519-b8a5639e55ed",
   "metadata": {},
   "outputs": [
    {
     "data": {
      "text/html": [
       "<div>\n",
       "<style scoped>\n",
       "    .dataframe tbody tr th:only-of-type {\n",
       "        vertical-align: middle;\n",
       "    }\n",
       "\n",
       "    .dataframe tbody tr th {\n",
       "        vertical-align: top;\n",
       "    }\n",
       "\n",
       "    .dataframe thead th {\n",
       "        text-align: right;\n",
       "    }\n",
       "</style>\n",
       "<table border=\"1\" class=\"dataframe\">\n",
       "  <thead>\n",
       "    <tr style=\"text-align: right;\">\n",
       "      <th></th>\n",
       "      <th>Power_HP</th>\n",
       "      <th>No_of_Cylinders</th>\n",
       "      <th>Mileage_mpg</th>\n",
       "      <th>Popularity</th>\n",
       "      <th>MSRP</th>\n",
       "    </tr>\n",
       "  </thead>\n",
       "  <tbody>\n",
       "    <tr>\n",
       "      <th>count</th>\n",
       "      <td>406.000000</td>\n",
       "      <td>406.000000</td>\n",
       "      <td>406.000000</td>\n",
       "      <td>406.000000</td>\n",
       "      <td>406.000000</td>\n",
       "    </tr>\n",
       "    <tr>\n",
       "      <th>mean</th>\n",
       "      <td>214.004988</td>\n",
       "      <td>5.295567</td>\n",
       "      <td>20.928571</td>\n",
       "      <td>3377.679803</td>\n",
       "      <td>25534.371921</td>\n",
       "    </tr>\n",
       "    <tr>\n",
       "      <th>std</th>\n",
       "      <td>84.009523</td>\n",
       "      <td>1.548023</td>\n",
       "      <td>10.734843</td>\n",
       "      <td>2121.244431</td>\n",
       "      <td>17135.324044</td>\n",
       "    </tr>\n",
       "    <tr>\n",
       "      <th>min</th>\n",
       "      <td>63.000000</td>\n",
       "      <td>0.000000</td>\n",
       "      <td>11.000000</td>\n",
       "      <td>873.000000</td>\n",
       "      <td>2000.000000</td>\n",
       "    </tr>\n",
       "    <tr>\n",
       "      <th>25%</th>\n",
       "      <td>154.250000</td>\n",
       "      <td>4.000000</td>\n",
       "      <td>15.000000</td>\n",
       "      <td>873.000000</td>\n",
       "      <td>18148.750000</td>\n",
       "    </tr>\n",
       "    <tr>\n",
       "      <th>50%</th>\n",
       "      <td>200.000000</td>\n",
       "      <td>5.000000</td>\n",
       "      <td>19.000000</td>\n",
       "      <td>2031.000000</td>\n",
       "      <td>25895.000000</td>\n",
       "    </tr>\n",
       "    <tr>\n",
       "      <th>75%</th>\n",
       "      <td>266.000000</td>\n",
       "      <td>6.000000</td>\n",
       "      <td>23.000000</td>\n",
       "      <td>5657.000000</td>\n",
       "      <td>32250.000000</td>\n",
       "    </tr>\n",
       "    <tr>\n",
       "      <th>max</th>\n",
       "      <td>662.000000</td>\n",
       "      <td>12.000000</td>\n",
       "      <td>126.000000</td>\n",
       "      <td>5657.000000</td>\n",
       "      <td>149995.000000</td>\n",
       "    </tr>\n",
       "  </tbody>\n",
       "</table>\n",
       "</div>"
      ],
      "text/plain": [
       "         Power_HP  No_of_Cylinders  Mileage_mpg   Popularity           MSRP\n",
       "count  406.000000       406.000000   406.000000   406.000000     406.000000\n",
       "mean   214.004988         5.295567    20.928571  3377.679803   25534.371921\n",
       "std     84.009523         1.548023    10.734843  2121.244431   17135.324044\n",
       "min     63.000000         0.000000    11.000000   873.000000    2000.000000\n",
       "25%    154.250000         4.000000    15.000000   873.000000   18148.750000\n",
       "50%    200.000000         5.000000    19.000000  2031.000000   25895.000000\n",
       "75%    266.000000         6.000000    23.000000  5657.000000   32250.000000\n",
       "max    662.000000        12.000000   126.000000  5657.000000  149995.000000"
      ]
     },
     "execution_count": 35,
     "metadata": {},
     "output_type": "execute_result"
    }
   ],
   "source": [
    "car_data2.describe()"
   ]
  },
  {
   "cell_type": "code",
   "execution_count": 36,
   "id": "28965166-9493-4f7f-9465-dc4f93d5cf00",
   "metadata": {},
   "outputs": [
    {
     "data": {
      "text/plain": [
       "Make\n",
       "Ford          184\n",
       "Toyota        118\n",
       "Volkswagen    104\n",
       "Name: count, dtype: int64"
      ]
     },
     "execution_count": 36,
     "metadata": {},
     "output_type": "execute_result"
    }
   ],
   "source": [
    "car_data2.Make.value_counts()"
   ]
  },
  {
   "cell_type": "code",
   "execution_count": 37,
   "id": "ef37d17a-3182-4722-b036-5a2c7478ce2b",
   "metadata": {},
   "outputs": [
    {
     "data": {
      "text/plain": [
       "<Axes: xlabel='Make'>"
      ]
     },
     "execution_count": 37,
     "metadata": {},
     "output_type": "execute_result"
    },
    {
     "data": {
      "image/png": "[encoded data removed]",
      "text/plain": [
       "<Figure size 640x480 with 1 Axes>"
      ]
     },
     "metadata": {},
     "output_type": "display_data"
    }
   ],
   "source": [
    "car_data2.Make.value_counts().plot(kind = 'bar')"
   ]
  },
  {
   "cell_type": "code",
   "execution_count": 39,
   "id": "a983bb73-5d5c-4368-8c43-966467bf7330",
   "metadata": {},
   "outputs": [
    {
     "data": {
      "text/plain": [
       "Index(['Make', 'Fuel_Type', 'Power_HP', 'No_of_Cylinders', 'Transmission',\n",
       "       'Driven_Wheels', 'vehicle_size', 'Mileage_mpg', 'Popularity', 'MSRP'],\n",
       "      dtype='object')"
      ]
     },
     "execution_count": 39,
     "metadata": {},
     "output_type": "execute_result"
    }
   ],
   "source": [
    "car_data2.columns"
   ]
  },
  {
   "cell_type": "code",
   "execution_count": 40,
   "id": "a411a4c7-4025-4c98-bf15-8725fdaf7d9e",
   "metadata": {},
   "outputs": [
    {
     "data": {
      "text/plain": [
       "<Axes: xlabel='Fuel_Type'>"
      ]
     },
     "execution_count": 40,
     "metadata": {},
     "output_type": "execute_result"
    },
    {
     "data": {
      "image/png": "[encoded data removed]",
      "text/plain": [
       "<Figure size 640x480 with 1 Axes>"
      ]
     },
     "metadata": {},
     "output_type": "display_data"
    }
   ],
   "source": [
    "car_data2.Fuel_Type.value_counts().plot(kind = 'bar')"
   ]
  },
  {
   "cell_type": "code",
   "execution_count": 41,
   "id": "081bafe8-8ba1-4c43-8de2-b669829d02d8",
   "metadata": {},
   "outputs": [
    {
     "data": {
      "text/html": [
       "<div>\n",
       "<style scoped>\n",
       "    .dataframe tbody tr th:only-of-type {\n",
       "        vertical-align: middle;\n",
       "    }\n",
       "\n",
       "    .dataframe tbody tr th {\n",
       "        vertical-align: top;\n",
       "    }\n",
       "\n",
       "    .dataframe thead th {\n",
       "        text-align: right;\n",
       "    }\n",
       "</style>\n",
       "<table border=\"1\" class=\"dataframe\">\n",
       "  <thead>\n",
       "    <tr style=\"text-align: right;\">\n",
       "      <th></th>\n",
       "      <th>Make</th>\n",
       "      <th>Fuel_Type</th>\n",
       "      <th>Power_HP</th>\n",
       "      <th>No_of_Cylinders</th>\n",
       "      <th>Transmission</th>\n",
       "      <th>Driven_Wheels</th>\n",
       "      <th>vehicle_size</th>\n",
       "      <th>Mileage_mpg</th>\n",
       "      <th>Popularity</th>\n",
       "      <th>MSRP</th>\n",
       "    </tr>\n",
       "  </thead>\n",
       "  <tbody>\n",
       "    <tr>\n",
       "      <th>0</th>\n",
       "      <td>Toyota</td>\n",
       "      <td>regular unleaded</td>\n",
       "      <td>270.0</td>\n",
       "      <td>6.0</td>\n",
       "      <td>AUTOMATIC</td>\n",
       "      <td>rear wheel drive</td>\n",
       "      <td>Midsize</td>\n",
       "      <td>17</td>\n",
       "      <td>2031</td>\n",
       "      <td>41365</td>\n",
       "    </tr>\n",
       "    <tr>\n",
       "      <th>2</th>\n",
       "      <td>Toyota</td>\n",
       "      <td>regular unleaded</td>\n",
       "      <td>270.0</td>\n",
       "      <td>6.0</td>\n",
       "      <td>AUTOMATIC</td>\n",
       "      <td>four wheel drive</td>\n",
       "      <td>Midsize</td>\n",
       "      <td>17</td>\n",
       "      <td>2031</td>\n",
       "      <td>37615</td>\n",
       "    </tr>\n",
       "    <tr>\n",
       "      <th>26</th>\n",
       "      <td>Toyota</td>\n",
       "      <td>premium unleaded (recommended)</td>\n",
       "      <td>205.0</td>\n",
       "      <td>4.0</td>\n",
       "      <td>MANUAL</td>\n",
       "      <td>rear wheel drive</td>\n",
       "      <td>Compact</td>\n",
       "      <td>21</td>\n",
       "      <td>2031</td>\n",
       "      <td>26255</td>\n",
       "    </tr>\n",
       "    <tr>\n",
       "      <th>27</th>\n",
       "      <td>Toyota</td>\n",
       "      <td>premium unleaded (recommended)</td>\n",
       "      <td>200.0</td>\n",
       "      <td>4.0</td>\n",
       "      <td>AUTOMATIC</td>\n",
       "      <td>rear wheel drive</td>\n",
       "      <td>Compact</td>\n",
       "      <td>24</td>\n",
       "      <td>2031</td>\n",
       "      <td>26975</td>\n",
       "    </tr>\n",
       "    <tr>\n",
       "      <th>28</th>\n",
       "      <td>Ford</td>\n",
       "      <td>regular unleaded</td>\n",
       "      <td>135.0</td>\n",
       "      <td>6.0</td>\n",
       "      <td>AUTOMATIC</td>\n",
       "      <td>rear wheel drive</td>\n",
       "      <td>Midsize</td>\n",
       "      <td>16</td>\n",
       "      <td>5657</td>\n",
       "      <td>2000</td>\n",
       "    </tr>\n",
       "  </tbody>\n",
       "</table>\n",
       "</div>"
      ],
      "text/plain": [
       "      Make                       Fuel_Type  Power_HP  No_of_Cylinders  \\\n",
       "0   Toyota                regular unleaded     270.0              6.0   \n",
       "2   Toyota                regular unleaded     270.0              6.0   \n",
       "26  Toyota  premium unleaded (recommended)     205.0              4.0   \n",
       "27  Toyota  premium unleaded (recommended)     200.0              4.0   \n",
       "28    Ford                regular unleaded     135.0              6.0   \n",
       "\n",
       "   Transmission     Driven_Wheels vehicle_size  Mileage_mpg  Popularity   MSRP  \n",
       "0     AUTOMATIC  rear wheel drive      Midsize           17        2031  41365  \n",
       "2     AUTOMATIC  four wheel drive      Midsize           17        2031  37615  \n",
       "26       MANUAL  rear wheel drive      Compact           21        2031  26255  \n",
       "27    AUTOMATIC  rear wheel drive      Compact           24        2031  26975  \n",
       "28    AUTOMATIC  rear wheel drive      Midsize           16        5657   2000  "
      ]
     },
     "execution_count": 41,
     "metadata": {},
     "output_type": "execute_result"
    }
   ],
   "source": [
    "car_data2.head()"
   ]
  },
  {
   "cell_type": "code",
   "execution_count": 42,
   "id": "2c57ece4-d6de-49b6-892d-22da6260c734",
   "metadata": {},
   "outputs": [
    {
     "data": {
      "text/plain": [
       "<Axes: xlabel='vehicle_size'>"
      ]
     },
     "execution_count": 42,
     "metadata": {},
     "output_type": "execute_result"
    },
    {
     "data": {
      "image/png": "[encoded data removed]",
      "text/plain": [
       "<Figure size 640x480 with 1 Axes>"
      ]
     },
     "metadata": {},
     "output_type": "display_data"
    }
   ],
   "source": [
    "car_data2.vehicle_size.value_counts().plot(kind = 'bar')"
   ]
  },
  {
   "cell_type": "code",
   "execution_count": null,
   "id": "09162ba5-edc5-4f25-8ac6-8d8f723c7358",
   "metadata": {},
   "outputs": [],
   "source": []
  },
  {
   "cell_type": "code",
   "execution_count": 44,
   "id": "2b6e71bc-ec44-4c17-8468-9782c79be0d5",
   "metadata": {},
   "outputs": [
    {
     "data": {
      "text/plain": [
       "<Axes: xlabel='Transmission'>"
      ]
     },
     "execution_count": 44,
     "metadata": {},
     "output_type": "execute_result"
    },
    {
     "data": {
      "image/png": "[encoded data removed]",
      "text/plain": [
       "<Figure size 640x480 with 1 Axes>"
      ]
     },
     "metadata": {},
     "output_type": "display_data"
    }
   ],
   "source": [
    "car_data2.Transmission.value_counts().plot(kind = 'bar')"
   ]
  },
  {
   "cell_type": "code",
   "execution_count": 46,
   "id": "9e5115cc-51b8-4e8f-a26b-7d2ed108e882",
   "metadata": {},
   "outputs": [
    {
     "data": {
      "text/plain": [
       "<Axes: xlabel='Driven_Wheels'>"
      ]
     },
     "execution_count": 46,
     "metadata": {},
     "output_type": "execute_result"
    },
    {
     "data": {
      "image/png": "[encoded data removed]",
      "text/plain": [
       "<Figure size 640x480 with 1 Axes>"
      ]
     },
     "metadata": {},
     "output_type": "display_data"
    }
   ],
   "source": [
    "car_data2.\tDriven_Wheels.value_counts().plot(kind = 'bar')"
   ]
  },
  {
   "cell_type": "code",
   "execution_count": 47,
   "id": "232fbc62-546e-4f48-8fe4-487a16edc088",
   "metadata": {},
   "outputs": [
    {
     "data": {
      "text/plain": [
       "<Axes: ylabel='Frequency'>"
      ]
     },
     "execution_count": 47,
     "metadata": {},
     "output_type": "execute_result"
    },
    {
     "data": {
      "image/png": "[encoded data removed]",
      "text/plain": [
       "<Figure size 640x480 with 1 Axes>"
      ]
     },
     "metadata": {},
     "output_type": "display_data"
    }
   ],
   "source": [
    "car_data2['Mileage_mpg'].plot(kind = 'hist')"
   ]
  },
  {
   "cell_type": "code",
   "execution_count": 48,
   "id": "698a35d6-b48e-4fc1-b1b4-9c5d423ef552",
   "metadata": {},
   "outputs": [
    {
     "data": {
      "text/plain": [
       "<Axes: ylabel='Frequency'>"
      ]
     },
     "execution_count": 48,
     "metadata": {},
     "output_type": "execute_result"
    },
    {
     "data": {
      "image/png": "[encoded data removed]",
      "text/plain": [
       "<Figure size 640x480 with 1 Axes>"
      ]
     },
     "metadata": {},
     "output_type": "display_data"
    }
   ],
   "source": [
    "car_data2['Popularity'].plot(kind = 'hist')"
   ]
  },
  {
   "cell_type": "code",
   "execution_count": 49,
   "id": "12c0f994-5f66-478c-8f81-bb950c6db93c",
   "metadata": {},
   "outputs": [
    {
     "data": {
      "text/plain": [
       "<Axes: ylabel='Frequency'>"
      ]
     },
     "execution_count": 49,
     "metadata": {},
     "output_type": "execute_result"
    },
    {
     "data": {
      "image/png": "[encoded data removed]",
      "text/plain": [
       "<Figure size 640x480 with 1 Axes>"
      ]
     },
     "metadata": {},
     "output_type": "display_data"
    }
   ],
   "source": [
    "car_data2['MSRP'].plot(kind = 'hist')"
   ]
  },
  {
   "cell_type": "markdown",
   "id": "415ecbc7-91c7-4fcd-8ab4-773a9584e5e4",
   "metadata": {},
   "source": [
    "#Machine Learning"
   ]
  },
  {
   "cell_type": "markdown",
   "id": "1fceea59-e39e-4e35-bb10-834621c9ceb7",
   "metadata": {},
   "source": [
    "To start with ML , First we need to pre process the data , i.e, Converting all the categorical columns into numeric which is also known as encoding columns"
   ]
  },
  {
   "cell_type": "code",
   "execution_count": 51,
   "id": "c1f57f0e-6ab2-400b-b35b-3dc9c3829864",
   "metadata": {},
   "outputs": [
    {
     "data": {
      "text/plain": [
       "Index(['Make', 'Fuel_Type', 'Power_HP', 'No_of_Cylinders', 'Transmission',\n",
       "       'Driven_Wheels', 'vehicle_size', 'Mileage_mpg', 'Popularity', 'MSRP'],\n",
       "      dtype='object')"
      ]
     },
     "execution_count": 51,
     "metadata": {},
     "output_type": "execute_result"
    }
   ],
   "source": [
    "car_data2.columns"
   ]
  },
  {
   "cell_type": "code",
   "execution_count": 53,
   "id": "799cc56c-8597-424b-9b15-dc888aafb741",
   "metadata": {},
   "outputs": [],
   "source": [
    "from sklearn.preprocessing import LabelEncoder\n",
    "Le = LabelEncoder()"
   ]
  },
  {
   "cell_type": "code",
   "execution_count": 57,
   "id": "1ae4bbc0-a46b-4706-afde-f0800a323c6b",
   "metadata": {},
   "outputs": [
    {
     "name": "stderr",
     "output_type": "stream",
     "text": [
      "C:\\Users\\ARYAN SHRIVASTAV\\AppData\\Local\\Temp\\ipykernel_16772\\2072572436.py:1: SettingWithCopyWarning: \n",
      "A value is trying to be set on a copy of a slice from a DataFrame.\n",
      "Try using .loc[row_indexer,col_indexer] = value instead\n",
      "\n",
      "See the caveats in the documentation: https://pandas.pydata.org/pandas-docs/stable/user_guide/indexing.html#returning-a-view-versus-a-copy\n",
      "  car_data2['Make'] = Le.fit_transform(car_data2['Make'])\n",
      "C:\\Users\\ARYAN SHRIVASTAV\\AppData\\Local\\Temp\\ipykernel_16772\\2072572436.py:2: SettingWithCopyWarning: \n",
      "A value is trying to be set on a copy of a slice from a DataFrame.\n",
      "Try using .loc[row_indexer,col_indexer] = value instead\n",
      "\n",
      "See the caveats in the documentation: https://pandas.pydata.org/pandas-docs/stable/user_guide/indexing.html#returning-a-view-versus-a-copy\n",
      "  car_data2['Fuel_Type'] = Le.fit_transform(car_data2['Fuel_Type'])\n",
      "C:\\Users\\ARYAN SHRIVASTAV\\AppData\\Local\\Temp\\ipykernel_16772\\2072572436.py:3: SettingWithCopyWarning: \n",
      "A value is trying to be set on a copy of a slice from a DataFrame.\n",
      "Try using .loc[row_indexer,col_indexer] = value instead\n",
      "\n",
      "See the caveats in the documentation: https://pandas.pydata.org/pandas-docs/stable/user_guide/indexing.html#returning-a-view-versus-a-copy\n",
      "  car_data2['Transmission'] = Le.fit_transform(car_data2['Transmission'])\n",
      "C:\\Users\\ARYAN SHRIVASTAV\\AppData\\Local\\Temp\\ipykernel_16772\\2072572436.py:4: SettingWithCopyWarning: \n",
      "A value is trying to be set on a copy of a slice from a DataFrame.\n",
      "Try using .loc[row_indexer,col_indexer] = value instead\n",
      "\n",
      "See the caveats in the documentation: https://pandas.pydata.org/pandas-docs/stable/user_guide/indexing.html#returning-a-view-versus-a-copy\n",
      "  car_data2['Driven_Wheels'] = Le.fit_transform(car_data2['Driven_Wheels'])\n",
      "C:\\Users\\ARYAN SHRIVASTAV\\AppData\\Local\\Temp\\ipykernel_16772\\2072572436.py:5: SettingWithCopyWarning: \n",
      "A value is trying to be set on a copy of a slice from a DataFrame.\n",
      "Try using .loc[row_indexer,col_indexer] = value instead\n",
      "\n",
      "See the caveats in the documentation: https://pandas.pydata.org/pandas-docs/stable/user_guide/indexing.html#returning-a-view-versus-a-copy\n",
      "  car_data2['vehicle_size'] = Le.fit_transform(car_data2['vehicle_size'])\n"
     ]
    }
   ],
   "source": [
    "car_data2['Make'] = Le.fit_transform(car_data2['Make'])\n",
    "car_data2['Fuel_Type'] = Le.fit_transform(car_data2['Fuel_Type'])\n",
    "car_data2['Transmission'] = Le.fit_transform(car_data2['Transmission'])\n",
    "car_data2['Driven_Wheels'] = Le.fit_transform(car_data2['Driven_Wheels'])\n",
    "car_data2['vehicle_size'] = Le.fit_transform(car_data2['vehicle_size'])"
   ]
  },
  {
   "cell_type": "code",
   "execution_count": 58,
   "id": "13dc53f0-4371-4dea-aaab-1c64b6bd66b1",
   "metadata": {},
   "outputs": [
    {
     "data": {
      "text/html": [
       "<div>\n",
       "<style scoped>\n",
       "    .dataframe tbody tr th:only-of-type {\n",
       "        vertical-align: middle;\n",
       "    }\n",
       "\n",
       "    .dataframe tbody tr th {\n",
       "        vertical-align: top;\n",
       "    }\n",
       "\n",
       "    .dataframe thead th {\n",
       "        text-align: right;\n",
       "    }\n",
       "</style>\n",
       "<table border=\"1\" class=\"dataframe\">\n",
       "  <thead>\n",
       "    <tr style=\"text-align: right;\">\n",
       "      <th></th>\n",
       "      <th>Make</th>\n",
       "      <th>Fuel_Type</th>\n",
       "      <th>Power_HP</th>\n",
       "      <th>No_of_Cylinders</th>\n",
       "      <th>Transmission</th>\n",
       "      <th>Driven_Wheels</th>\n",
       "      <th>vehicle_size</th>\n",
       "      <th>Mileage_mpg</th>\n",
       "      <th>Popularity</th>\n",
       "      <th>MSRP</th>\n",
       "    </tr>\n",
       "  </thead>\n",
       "  <tbody>\n",
       "    <tr>\n",
       "      <th>0</th>\n",
       "      <td>1</td>\n",
       "      <td>5</td>\n",
       "      <td>270.0</td>\n",
       "      <td>6.0</td>\n",
       "      <td>1</td>\n",
       "      <td>3</td>\n",
       "      <td>2</td>\n",
       "      <td>17</td>\n",
       "      <td>2031</td>\n",
       "      <td>41365</td>\n",
       "    </tr>\n",
       "    <tr>\n",
       "      <th>2</th>\n",
       "      <td>1</td>\n",
       "      <td>5</td>\n",
       "      <td>270.0</td>\n",
       "      <td>6.0</td>\n",
       "      <td>1</td>\n",
       "      <td>1</td>\n",
       "      <td>2</td>\n",
       "      <td>17</td>\n",
       "      <td>2031</td>\n",
       "      <td>37615</td>\n",
       "    </tr>\n",
       "    <tr>\n",
       "      <th>26</th>\n",
       "      <td>1</td>\n",
       "      <td>3</td>\n",
       "      <td>205.0</td>\n",
       "      <td>4.0</td>\n",
       "      <td>3</td>\n",
       "      <td>3</td>\n",
       "      <td>0</td>\n",
       "      <td>21</td>\n",
       "      <td>2031</td>\n",
       "      <td>26255</td>\n",
       "    </tr>\n",
       "    <tr>\n",
       "      <th>27</th>\n",
       "      <td>1</td>\n",
       "      <td>3</td>\n",
       "      <td>200.0</td>\n",
       "      <td>4.0</td>\n",
       "      <td>1</td>\n",
       "      <td>3</td>\n",
       "      <td>0</td>\n",
       "      <td>24</td>\n",
       "      <td>2031</td>\n",
       "      <td>26975</td>\n",
       "    </tr>\n",
       "    <tr>\n",
       "      <th>28</th>\n",
       "      <td>0</td>\n",
       "      <td>5</td>\n",
       "      <td>135.0</td>\n",
       "      <td>6.0</td>\n",
       "      <td>1</td>\n",
       "      <td>3</td>\n",
       "      <td>2</td>\n",
       "      <td>16</td>\n",
       "      <td>5657</td>\n",
       "      <td>2000</td>\n",
       "    </tr>\n",
       "    <tr>\n",
       "      <th>29</th>\n",
       "      <td>0</td>\n",
       "      <td>5</td>\n",
       "      <td>135.0</td>\n",
       "      <td>6.0</td>\n",
       "      <td>1</td>\n",
       "      <td>3</td>\n",
       "      <td>2</td>\n",
       "      <td>15</td>\n",
       "      <td>5657</td>\n",
       "      <td>2000</td>\n",
       "    </tr>\n",
       "    <tr>\n",
       "      <th>30</th>\n",
       "      <td>0</td>\n",
       "      <td>5</td>\n",
       "      <td>155.0</td>\n",
       "      <td>6.0</td>\n",
       "      <td>1</td>\n",
       "      <td>0</td>\n",
       "      <td>1</td>\n",
       "      <td>14</td>\n",
       "      <td>5657</td>\n",
       "      <td>2000</td>\n",
       "    </tr>\n",
       "    <tr>\n",
       "      <th>31</th>\n",
       "      <td>0</td>\n",
       "      <td>5</td>\n",
       "      <td>135.0</td>\n",
       "      <td>6.0</td>\n",
       "      <td>1</td>\n",
       "      <td>3</td>\n",
       "      <td>1</td>\n",
       "      <td>15</td>\n",
       "      <td>5657</td>\n",
       "      <td>2000</td>\n",
       "    </tr>\n",
       "    <tr>\n",
       "      <th>32</th>\n",
       "      <td>0</td>\n",
       "      <td>5</td>\n",
       "      <td>140.0</td>\n",
       "      <td>6.0</td>\n",
       "      <td>1</td>\n",
       "      <td>3</td>\n",
       "      <td>2</td>\n",
       "      <td>15</td>\n",
       "      <td>5657</td>\n",
       "      <td>2000</td>\n",
       "    </tr>\n",
       "    <tr>\n",
       "      <th>33</th>\n",
       "      <td>0</td>\n",
       "      <td>5</td>\n",
       "      <td>155.0</td>\n",
       "      <td>6.0</td>\n",
       "      <td>1</td>\n",
       "      <td>0</td>\n",
       "      <td>1</td>\n",
       "      <td>13</td>\n",
       "      <td>5657</td>\n",
       "      <td>2000</td>\n",
       "    </tr>\n",
       "  </tbody>\n",
       "</table>\n",
       "</div>"
      ],
      "text/plain": [
       "    Make  Fuel_Type  Power_HP  No_of_Cylinders  Transmission  Driven_Wheels  \\\n",
       "0      1          5     270.0              6.0             1              3   \n",
       "2      1          5     270.0              6.0             1              1   \n",
       "26     1          3     205.0              4.0             3              3   \n",
       "27     1          3     200.0              4.0             1              3   \n",
       "28     0          5     135.0              6.0             1              3   \n",
       "29     0          5     135.0              6.0             1              3   \n",
       "30     0          5     155.0              6.0             1              0   \n",
       "31     0          5     135.0              6.0             1              3   \n",
       "32     0          5     140.0              6.0             1              3   \n",
       "33     0          5     155.0              6.0             1              0   \n",
       "\n",
       "    vehicle_size  Mileage_mpg  Popularity   MSRP  \n",
       "0              2           17        2031  41365  \n",
       "2              2           17        2031  37615  \n",
       "26             0           21        2031  26255  \n",
       "27             0           24        2031  26975  \n",
       "28             2           16        5657   2000  \n",
       "29             2           15        5657   2000  \n",
       "30             1           14        5657   2000  \n",
       "31             1           15        5657   2000  \n",
       "32             2           15        5657   2000  \n",
       "33             1           13        5657   2000  "
      ]
     },
     "execution_count": 58,
     "metadata": {},
     "output_type": "execute_result"
    }
   ],
   "source": [
    "car_data2.head(10)"
   ]
  },
  {
   "cell_type": "markdown",
   "id": "daa0d44b-e903-4f24-8654-77bafd3f068d",
   "metadata": {},
   "source": [
    "@Now declaring dependent and independent variables\n",
    "Here I am making pricre of the car as independent variable whereas all others column as dependent variable"
   ]
  },
  {
   "cell_type": "code",
   "execution_count": 59,
   "id": "0e3b5ba6-f44e-4c06-86be-3137883fa186",
   "metadata": {},
   "outputs": [],
   "source": [
    "x = car_data2.drop(['MSRP'], axis = 1)\n",
    "y = car_data2['MSRP']"
   ]
  },
  {
   "cell_type": "code",
   "execution_count": 60,
   "id": "08aca0ad-e8dd-4888-9443-24859b66595f",
   "metadata": {},
   "outputs": [
    {
     "data": {
      "text/html": [
       "<div>\n",
       "<style scoped>\n",
       "    .dataframe tbody tr th:only-of-type {\n",
       "        vertical-align: middle;\n",
       "    }\n",
       "\n",
       "    .dataframe tbody tr th {\n",
       "        vertical-align: top;\n",
       "    }\n",
       "\n",
       "    .dataframe thead th {\n",
       "        text-align: right;\n",
       "    }\n",
       "</style>\n",
       "<table border=\"1\" class=\"dataframe\">\n",
       "  <thead>\n",
       "    <tr style=\"text-align: right;\">\n",
       "      <th></th>\n",
       "      <th>Make</th>\n",
       "      <th>Fuel_Type</th>\n",
       "      <th>Power_HP</th>\n",
       "      <th>No_of_Cylinders</th>\n",
       "      <th>Transmission</th>\n",
       "      <th>Driven_Wheels</th>\n",
       "      <th>vehicle_size</th>\n",
       "      <th>Mileage_mpg</th>\n",
       "      <th>Popularity</th>\n",
       "    </tr>\n",
       "  </thead>\n",
       "  <tbody>\n",
       "    <tr>\n",
       "      <th>0</th>\n",
       "      <td>1</td>\n",
       "      <td>5</td>\n",
       "      <td>270.0</td>\n",
       "      <td>6.0</td>\n",
       "      <td>1</td>\n",
       "      <td>3</td>\n",
       "      <td>2</td>\n",
       "      <td>17</td>\n",
       "      <td>2031</td>\n",
       "    </tr>\n",
       "    <tr>\n",
       "      <th>2</th>\n",
       "      <td>1</td>\n",
       "      <td>5</td>\n",
       "      <td>270.0</td>\n",
       "      <td>6.0</td>\n",
       "      <td>1</td>\n",
       "      <td>1</td>\n",
       "      <td>2</td>\n",
       "      <td>17</td>\n",
       "      <td>2031</td>\n",
       "    </tr>\n",
       "    <tr>\n",
       "      <th>26</th>\n",
       "      <td>1</td>\n",
       "      <td>3</td>\n",
       "      <td>205.0</td>\n",
       "      <td>4.0</td>\n",
       "      <td>3</td>\n",
       "      <td>3</td>\n",
       "      <td>0</td>\n",
       "      <td>21</td>\n",
       "      <td>2031</td>\n",
       "    </tr>\n",
       "    <tr>\n",
       "      <th>27</th>\n",
       "      <td>1</td>\n",
       "      <td>3</td>\n",
       "      <td>200.0</td>\n",
       "      <td>4.0</td>\n",
       "      <td>1</td>\n",
       "      <td>3</td>\n",
       "      <td>0</td>\n",
       "      <td>24</td>\n",
       "      <td>2031</td>\n",
       "    </tr>\n",
       "    <tr>\n",
       "      <th>28</th>\n",
       "      <td>0</td>\n",
       "      <td>5</td>\n",
       "      <td>135.0</td>\n",
       "      <td>6.0</td>\n",
       "      <td>1</td>\n",
       "      <td>3</td>\n",
       "      <td>2</td>\n",
       "      <td>16</td>\n",
       "      <td>5657</td>\n",
       "    </tr>\n",
       "  </tbody>\n",
       "</table>\n",
       "</div>"
      ],
      "text/plain": [
       "    Make  Fuel_Type  Power_HP  No_of_Cylinders  Transmission  Driven_Wheels  \\\n",
       "0      1          5     270.0              6.0             1              3   \n",
       "2      1          5     270.0              6.0             1              1   \n",
       "26     1          3     205.0              4.0             3              3   \n",
       "27     1          3     200.0              4.0             1              3   \n",
       "28     0          5     135.0              6.0             1              3   \n",
       "\n",
       "    vehicle_size  Mileage_mpg  Popularity  \n",
       "0              2           17        2031  \n",
       "2              2           17        2031  \n",
       "26             0           21        2031  \n",
       "27             0           24        2031  \n",
       "28             2           16        5657  "
      ]
     },
     "execution_count": 60,
     "metadata": {},
     "output_type": "execute_result"
    }
   ],
   "source": [
    "x.head()"
   ]
  },
  {
   "cell_type": "code",
   "execution_count": 61,
   "id": "e68b84c7-13d1-4ece-aaf1-2ac91fa47843",
   "metadata": {},
   "outputs": [
    {
     "data": {
      "text/plain": [
       "0     41365\n",
       "2     37615\n",
       "26    26255\n",
       "27    26975\n",
       "28     2000\n",
       "Name: MSRP, dtype: int64"
      ]
     },
     "execution_count": 61,
     "metadata": {},
     "output_type": "execute_result"
    }
   ],
   "source": [
    "y.head()"
   ]
  },
  {
   "cell_type": "markdown",
   "id": "a535afc6-735d-4b95-a7cf-7e49e061050f",
   "metadata": {},
   "source": [
    "#scaling of data to reduce error"
   ]
  },
  {
   "cell_type": "code",
   "execution_count": 65,
   "id": "a629339a-80b1-4200-bf1c-8f5c3de7afbd",
   "metadata": {},
   "outputs": [],
   "source": [
    "from sklearn.preprocessing import StandardScaler\n",
    "std_scale = StandardScaler()"
   ]
  },
  {
   "cell_type": "code",
   "execution_count": 67,
   "id": "1defee97-d038-4d12-8aaa-5a4cd59f1a57",
   "metadata": {},
   "outputs": [],
   "source": [
    "x['Power_HP'] = std_scale.fit_transform(x[['Power_HP']])\n",
    "x['No_of_Cylinders'] = std_scale.fit_transform(x[['No_of_Cylinders']])\n",
    "x['Mileage_mpg'] = std_scale.fit_transform(x[['Mileage_mpg']])\n",
    "x['Popularity'] = std_scale.fit_transform(x[['Popularity']])"
   ]
  },
  {
   "cell_type": "code",
   "execution_count": 70,
   "id": "2503999c-03ec-4fa4-9c04-f3ecd52ce102",
   "metadata": {},
   "outputs": [
    {
     "data": {
      "text/html": [
       "<div>\n",
       "<style scoped>\n",
       "    .dataframe tbody tr th:only-of-type {\n",
       "        vertical-align: middle;\n",
       "    }\n",
       "\n",
       "    .dataframe tbody tr th {\n",
       "        vertical-align: top;\n",
       "    }\n",
       "\n",
       "    .dataframe thead th {\n",
       "        text-align: right;\n",
       "    }\n",
       "</style>\n",
       "<table border=\"1\" class=\"dataframe\">\n",
       "  <thead>\n",
       "    <tr style=\"text-align: right;\">\n",
       "      <th></th>\n",
       "      <th>Make</th>\n",
       "      <th>Fuel_Type</th>\n",
       "      <th>Power_HP</th>\n",
       "      <th>No_of_Cylinders</th>\n",
       "      <th>Transmission</th>\n",
       "      <th>Driven_Wheels</th>\n",
       "      <th>vehicle_size</th>\n",
       "      <th>Mileage_mpg</th>\n",
       "      <th>Popularity</th>\n",
       "    </tr>\n",
       "  </thead>\n",
       "  <tbody>\n",
       "    <tr>\n",
       "      <th>0</th>\n",
       "      <td>1</td>\n",
       "      <td>5</td>\n",
       "      <td>0.667354</td>\n",
       "      <td>0.455615</td>\n",
       "      <td>1</td>\n",
       "      <td>3</td>\n",
       "      <td>2</td>\n",
       "      <td>-0.366416</td>\n",
       "      <td>-0.635637</td>\n",
       "    </tr>\n",
       "    <tr>\n",
       "      <th>2</th>\n",
       "      <td>1</td>\n",
       "      <td>5</td>\n",
       "      <td>0.667354</td>\n",
       "      <td>0.455615</td>\n",
       "      <td>1</td>\n",
       "      <td>1</td>\n",
       "      <td>2</td>\n",
       "      <td>-0.366416</td>\n",
       "      <td>-0.635637</td>\n",
       "    </tr>\n",
       "    <tr>\n",
       "      <th>26</th>\n",
       "      <td>1</td>\n",
       "      <td>3</td>\n",
       "      <td>-0.107322</td>\n",
       "      <td>-0.837949</td>\n",
       "      <td>3</td>\n",
       "      <td>3</td>\n",
       "      <td>0</td>\n",
       "      <td>0.006662</td>\n",
       "      <td>-0.635637</td>\n",
       "    </tr>\n",
       "    <tr>\n",
       "      <th>27</th>\n",
       "      <td>1</td>\n",
       "      <td>3</td>\n",
       "      <td>-0.166913</td>\n",
       "      <td>-0.837949</td>\n",
       "      <td>1</td>\n",
       "      <td>3</td>\n",
       "      <td>0</td>\n",
       "      <td>0.286471</td>\n",
       "      <td>-0.635637</td>\n",
       "    </tr>\n",
       "    <tr>\n",
       "      <th>28</th>\n",
       "      <td>0</td>\n",
       "      <td>5</td>\n",
       "      <td>-0.941589</td>\n",
       "      <td>0.455615</td>\n",
       "      <td>1</td>\n",
       "      <td>3</td>\n",
       "      <td>2</td>\n",
       "      <td>-0.459686</td>\n",
       "      <td>1.075846</td>\n",
       "    </tr>\n",
       "  </tbody>\n",
       "</table>\n",
       "</div>"
      ],
      "text/plain": [
       "    Make  Fuel_Type  Power_HP  No_of_Cylinders  Transmission  Driven_Wheels  \\\n",
       "0      1          5  0.667354         0.455615             1              3   \n",
       "2      1          5  0.667354         0.455615             1              1   \n",
       "26     1          3 -0.107322        -0.837949             3              3   \n",
       "27     1          3 -0.166913        -0.837949             1              3   \n",
       "28     0          5 -0.941589         0.455615             1              3   \n",
       "\n",
       "    vehicle_size  Mileage_mpg  Popularity  \n",
       "0              2    -0.366416   -0.635637  \n",
       "2              2    -0.366416   -0.635637  \n",
       "26             0     0.006662   -0.635637  \n",
       "27             0     0.286471   -0.635637  \n",
       "28             2    -0.459686    1.075846  "
      ]
     },
     "execution_count": 70,
     "metadata": {},
     "output_type": "execute_result"
    }
   ],
   "source": [
    "x.head()"
   ]
  },
  {
   "cell_type": "markdown",
   "id": "7d7f67b7-620b-4253-bae6-c99a5cd4fb2d",
   "metadata": {},
   "source": [
    "Splitting Data into Training and Testing"
   ]
  },
  {
   "cell_type": "code",
   "execution_count": 68,
   "id": "108aca6b-c552-4ae4-b7a6-7c1ebe4feda4",
   "metadata": {},
   "outputs": [],
   "source": [
    "from sklearn.model_selection import train_test_split"
   ]
  },
  {
   "cell_type": "code",
   "execution_count": 69,
   "id": "f72c850e-29c5-45a6-8773-6f49a1daa6a4",
   "metadata": {},
   "outputs": [],
   "source": [
    "x_train,x_test,y_train,y_test = train_test_split(x,y,test_size = 0.2)"
   ]
  },
  {
   "cell_type": "markdown",
   "id": "a8b3a973-5500-4e62-8201-e331667dba47",
   "metadata": {},
   "source": [
    "#Model Devlopment"
   ]
  },
  {
   "cell_type": "code",
   "execution_count": 71,
   "id": "e517f627-a646-4564-9e62-3b9ae02c8694",
   "metadata": {},
   "outputs": [],
   "source": [
    "from sklearn.linear_model import LinearRegression\n",
    "LinearReg = LinearRegression()"
   ]
  },
  {
   "cell_type": "code",
   "execution_count": 72,
   "id": "8e8c7825-6b3f-4478-8887-7cf55077b730",
   "metadata": {},
   "outputs": [
    {
     "data": {
      "text/html": [
       "<style>#sk-container-id-1 {\n",
       "  /* Definition of color scheme common for light and dark mode */\n",
       "  --sklearn-color-text: black;\n",
       "  --sklearn-color-line: gray;\n",
       "  /* Definition of color scheme for unfitted estimators */\n",
       "  --sklearn-color-unfitted-level-0: #fff5e6;\n",
       "  --sklearn-color-unfitted-level-1: #f6e4d2;\n",
       "  --sklearn-color-unfitted-level-2: #ffe0b3;\n",
       "  --sklearn-color-unfitted-level-3: chocolate;\n",
       "  /* Definition of color scheme for fitted estimators */\n",
       "  --sklearn-color-fitted-level-0: #f0f8ff;\n",
       "  --sklearn-color-fitted-level-1: #d4ebff;\n",
       "  --sklearn-color-fitted-level-2: #b3dbfd;\n",
       "  --sklearn-color-fitted-level-3: cornflowerblue;\n",
       "\n",
       "  /* Specific color for light theme */\n",
       "  --sklearn-color-text-on-default-background: var(--sg-text-color, var(--theme-code-foreground, var(--jp-content-font-color1, black)));\n",
       "  --sklearn-color-background: var(--sg-background-color, var(--theme-background, var(--jp-layout-color0, white)));\n",
       "  --sklearn-color-border-box: var(--sg-text-color, var(--theme-code-foreground, var(--jp-content-font-color1, black)));\n",
       "  --sklearn-color-icon: #696969;\n",
       "\n",
       "  @media (prefers-color-scheme: dark) {\n",
       "    /* Redefinition of color scheme for dark theme */\n",
       "    --sklearn-color-text-on-default-background: var(--sg-text-color, var(--theme-code-foreground, var(--jp-content-font-color1, white)));\n",
       "    --sklearn-color-background: var(--sg-background-color, var(--theme-background, var(--jp-layout-color0, #111)));\n",
       "    --sklearn-color-border-box: var(--sg-text-color, var(--theme-code-foreground, var(--jp-content-font-color1, white)));\n",
       "    --sklearn-color-icon: #878787;\n",
       "  }\n",
       "}\n",
       "\n",
       "#sk-container-id-1 {\n",
       "  color: var(--sklearn-color-text);\n",
       "}\n",
       "\n",
       "#sk-container-id-1 pre {\n",
       "  padding: 0;\n",
       "}\n",
       "\n",
       "#sk-container-id-1 input.sk-hidden--visually {\n",
       "  border: 0;\n",
       "  clip: rect(1px 1px 1px 1px);\n",
       "  clip: rect(1px, 1px, 1px, 1px);\n",
       "  height: 1px;\n",
       "  margin: -1px;\n",
       "  overflow: hidden;\n",
       "  padding: 0;\n",
       "  position: absolute;\n",
       "  width: 1px;\n",
       "}\n",
       "\n",
       "#sk-container-id-1 div.sk-dashed-wrapped {\n",
       "  border: 1px dashed var(--sklearn-color-line);\n",
       "  margin: 0 0.4em 0.5em 0.4em;\n",
       "  box-sizing: border-box;\n",
       "  padding-bottom: 0.4em;\n",
       "  background-color: var(--sklearn-color-background);\n",
       "}\n",
       "\n",
       "#sk-container-id-1 div.sk-container {\n",
       "  /* jupyter's `normalize.less` sets `[hidden] { display: none; }`\n",
       "     but bootstrap.min.css set `[hidden] { display: none !important; }`\n",
       "     so we also need the `!important` here to be able to override the\n",
       "     default hidden behavior on the sphinx rendered scikit-learn.org.\n",
       "     See: https://github.com/scikit-learn/scikit-learn/issues/21755 */\n",
       "  display: inline-block !important;\n",
       "  position: relative;\n",
       "}\n",
       "\n",
       "#sk-container-id-1 div.sk-text-repr-fallback {\n",
       "  display: none;\n",
       "}\n",
       "\n",
       "div.sk-parallel-item,\n",
       "div.sk-serial,\n",
       "div.sk-item {\n",
       "  /* draw centered vertical line to link estimators */\n",
       "  background-image: linear-gradient(var(--sklearn-color-text-on-default-background), var(--sklearn-color-text-on-default-background));\n",
       "  background-size: 2px 100%;\n",
       "  background-repeat: no-repeat;\n",
       "  background-position: center center;\n",
       "}\n",
       "\n",
       "/* Parallel-specific style estimator block */\n",
       "\n",
       "#sk-container-id-1 div.sk-parallel-item::after {\n",
       "  content: \"\";\n",
       "  width: 100%;\n",
       "  border-bottom: 2px solid var(--sklearn-color-text-on-default-background);\n",
       "  flex-grow: 1;\n",
       "}\n",
       "\n",
       "#sk-container-id-1 div.sk-parallel {\n",
       "  display: flex;\n",
       "  align-items: stretch;\n",
       "  justify-content: center;\n",
       "  background-color: var(--sklearn-color-background);\n",
       "  position: relative;\n",
       "}\n",
       "\n",
       "#sk-container-id-1 div.sk-parallel-item {\n",
       "  display: flex;\n",
       "  flex-direction: column;\n",
       "}\n",
       "\n",
       "#sk-container-id-1 div.sk-parallel-item:first-child::after {\n",
       "  align-self: flex-end;\n",
       "  width: 50%;\n",
       "}\n",
       "\n",
       "#sk-container-id-1 div.sk-parallel-item:last-child::after {\n",
       "  align-self: flex-start;\n",
       "  width: 50%;\n",
       "}\n",
       "\n",
       "#sk-container-id-1 div.sk-parallel-item:only-child::after {\n",
       "  width: 0;\n",
       "}\n",
       "\n",
       "/* Serial-specific style estimator block */\n",
       "\n",
       "#sk-container-id-1 div.sk-serial {\n",
       "  display: flex;\n",
       "  flex-direction: column;\n",
       "  align-items: center;\n",
       "  background-color: var(--sklearn-color-background);\n",
       "  padding-right: 1em;\n",
       "  padding-left: 1em;\n",
       "}\n",
       "\n",
       "\n",
       "/* Toggleable style: style used for estimator/Pipeline/ColumnTransformer box that is\n",
       "clickable and can be expanded/collapsed.\n",
       "- Pipeline and ColumnTransformer use this feature and define the default style\n",
       "- Estimators will overwrite some part of the style using the `sk-estimator` class\n",
       "*/\n",
       "\n",
       "/* Pipeline and ColumnTransformer style (default) */\n",
       "\n",
       "#sk-container-id-1 div.sk-toggleable {\n",
       "  /* Default theme specific background. It is overwritten whether we have a\n",
       "  specific estimator or a Pipeline/ColumnTransformer */\n",
       "  background-color: var(--sklearn-color-background);\n",
       "}\n",
       "\n",
       "/* Toggleable label */\n",
       "#sk-container-id-1 label.sk-toggleable__label {\n",
       "  cursor: pointer;\n",
       "  display: block;\n",
       "  width: 100%;\n",
       "  margin-bottom: 0;\n",
       "  padding: 0.5em;\n",
       "  box-sizing: border-box;\n",
       "  text-align: center;\n",
       "}\n",
       "\n",
       "#sk-container-id-1 label.sk-toggleable__label-arrow:before {\n",
       "  /* Arrow on the left of the label */\n",
       "  content: \"▸\";\n",
       "  float: left;\n",
       "  margin-right: 0.25em;\n",
       "  color: var(--sklearn-color-icon);\n",
       "}\n",
       "\n",
       "#sk-container-id-1 label.sk-toggleable__label-arrow:hover:before {\n",
       "  color: var(--sklearn-color-text);\n",
       "}\n",
       "\n",
       "/* Toggleable content - dropdown */\n",
       "\n",
       "#sk-container-id-1 div.sk-toggleable__content {\n",
       "  max-height: 0;\n",
       "  max-width: 0;\n",
       "  overflow: hidden;\n",
       "  text-align: left;\n",
       "  /* unfitted */\n",
       "  background-color: var(--sklearn-color-unfitted-level-0);\n",
       "}\n",
       "\n",
       "#sk-container-id-1 div.sk-toggleable__content.fitted {\n",
       "  /* fitted */\n",
       "  background-color: var(--sklearn-color-fitted-level-0);\n",
       "}\n",
       "\n",
       "#sk-container-id-1 div.sk-toggleable__content pre {\n",
       "  margin: 0.2em;\n",
       "  border-radius: 0.25em;\n",
       "  color: var(--sklearn-color-text);\n",
       "  /* unfitted */\n",
       "  background-color: var(--sklearn-color-unfitted-level-0);\n",
       "}\n",
       "\n",
       "#sk-container-id-1 div.sk-toggleable__content.fitted pre {\n",
       "  /* unfitted */\n",
       "  background-color: var(--sklearn-color-fitted-level-0);\n",
       "}\n",
       "\n",
       "#sk-container-id-1 input.sk-toggleable__control:checked~div.sk-toggleable__content {\n",
       "  /* Expand drop-down */\n",
       "  max-height: 200px;\n",
       "  max-width: 100%;\n",
       "  overflow: auto;\n",
       "}\n",
       "\n",
       "#sk-container-id-1 input.sk-toggleable__control:checked~label.sk-toggleable__label-arrow:before {\n",
       "  content: \"▾\";\n",
       "}\n",
       "\n",
       "/* Pipeline/ColumnTransformer-specific style */\n",
       "\n",
       "#sk-container-id-1 div.sk-label input.sk-toggleable__control:checked~label.sk-toggleable__label {\n",
       "  color: var(--sklearn-color-text);\n",
       "  background-color: var(--sklearn-color-unfitted-level-2);\n",
       "}\n",
       "\n",
       "#sk-container-id-1 div.sk-label.fitted input.sk-toggleable__control:checked~label.sk-toggleable__label {\n",
       "  background-color: var(--sklearn-color-fitted-level-2);\n",
       "}\n",
       "\n",
       "/* Estimator-specific style */\n",
       "\n",
       "/* Colorize estimator box */\n",
       "#sk-container-id-1 div.sk-estimator input.sk-toggleable__control:checked~label.sk-toggleable__label {\n",
       "  /* unfitted */\n",
       "  background-color: var(--sklearn-color-unfitted-level-2);\n",
       "}\n",
       "\n",
       "#sk-container-id-1 div.sk-estimator.fitted input.sk-toggleable__control:checked~label.sk-toggleable__label {\n",
       "  /* fitted */\n",
       "  background-color: var(--sklearn-color-fitted-level-2);\n",
       "}\n",
       "\n",
       "#sk-container-id-1 div.sk-label label.sk-toggleable__label,\n",
       "#sk-container-id-1 div.sk-label label {\n",
       "  /* The background is the default theme color */\n",
       "  color: var(--sklearn-color-text-on-default-background);\n",
       "}\n",
       "\n",
       "/* On hover, darken the color of the background */\n",
       "#sk-container-id-1 div.sk-label:hover label.sk-toggleable__label {\n",
       "  color: var(--sklearn-color-text);\n",
       "  background-color: var(--sklearn-color-unfitted-level-2);\n",
       "}\n",
       "\n",
       "/* Label box, darken color on hover, fitted */\n",
       "#sk-container-id-1 div.sk-label.fitted:hover label.sk-toggleable__label.fitted {\n",
       "  color: var(--sklearn-color-text);\n",
       "  background-color: var(--sklearn-color-fitted-level-2);\n",
       "}\n",
       "\n",
       "/* Estimator label */\n",
       "\n",
       "#sk-container-id-1 div.sk-label label {\n",
       "  font-family: monospace;\n",
       "  font-weight: bold;\n",
       "  display: inline-block;\n",
       "  line-height: 1.2em;\n",
       "}\n",
       "\n",
       "#sk-container-id-1 div.sk-label-container {\n",
       "  text-align: center;\n",
       "}\n",
       "\n",
       "/* Estimator-specific */\n",
       "#sk-container-id-1 div.sk-estimator {\n",
       "  font-family: monospace;\n",
       "  border: 1px dotted var(--sklearn-color-border-box);\n",
       "  border-radius: 0.25em;\n",
       "  box-sizing: border-box;\n",
       "  margin-bottom: 0.5em;\n",
       "  /* unfitted */\n",
       "  background-color: var(--sklearn-color-unfitted-level-0);\n",
       "}\n",
       "\n",
       "#sk-container-id-1 div.sk-estimator.fitted {\n",
       "  /* fitted */\n",
       "  background-color: var(--sklearn-color-fitted-level-0);\n",
       "}\n",
       "\n",
       "/* on hover */\n",
       "#sk-container-id-1 div.sk-estimator:hover {\n",
       "  /* unfitted */\n",
       "  background-color: var(--sklearn-color-unfitted-level-2);\n",
       "}\n",
       "\n",
       "#sk-container-id-1 div.sk-estimator.fitted:hover {\n",
       "  /* fitted */\n",
       "  background-color: var(--sklearn-color-fitted-level-2);\n",
       "}\n",
       "\n",
       "/* Specification for estimator info (e.g. \"i\" and \"?\") */\n",
       "\n",
       "/* Common style for \"i\" and \"?\" */\n",
       "\n",
       ".sk-estimator-doc-link,\n",
       "a:link.sk-estimator-doc-link,\n",
       "a:visited.sk-estimator-doc-link {\n",
       "  float: right;\n",
       "  font-size: smaller;\n",
       "  line-height: 1em;\n",
       "  font-family: monospace;\n",
       "  background-color: var(--sklearn-color-background);\n",
       "  border-radius: 1em;\n",
       "  height: 1em;\n",
       "  width: 1em;\n",
       "  text-decoration: none !important;\n",
       "  margin-left: 1ex;\n",
       "  /* unfitted */\n",
       "  border: var(--sklearn-color-unfitted-level-1) 1pt solid;\n",
       "  color: var(--sklearn-color-unfitted-level-1);\n",
       "}\n",
       "\n",
       ".sk-estimator-doc-link.fitted,\n",
       "a:link.sk-estimator-doc-link.fitted,\n",
       "a:visited.sk-estimator-doc-link.fitted {\n",
       "  /* fitted */\n",
       "  border: var(--sklearn-color-fitted-level-1) 1pt solid;\n",
       "  color: var(--sklearn-color-fitted-level-1);\n",
       "}\n",
       "\n",
       "/* On hover */\n",
       "div.sk-estimator:hover .sk-estimator-doc-link:hover,\n",
       ".sk-estimator-doc-link:hover,\n",
       "div.sk-label-container:hover .sk-estimator-doc-link:hover,\n",
       ".sk-estimator-doc-link:hover {\n",
       "  /* unfitted */\n",
       "  background-color: var(--sklearn-color-unfitted-level-3);\n",
       "  color: var(--sklearn-color-background);\n",
       "  text-decoration: none;\n",
       "}\n",
       "\n",
       "div.sk-estimator.fitted:hover .sk-estimator-doc-link.fitted:hover,\n",
       ".sk-estimator-doc-link.fitted:hover,\n",
       "div.sk-label-container:hover .sk-estimator-doc-link.fitted:hover,\n",
       ".sk-estimator-doc-link.fitted:hover {\n",
       "  /* fitted */\n",
       "  background-color: var(--sklearn-color-fitted-level-3);\n",
       "  color: var(--sklearn-color-background);\n",
       "  text-decoration: none;\n",
       "}\n",
       "\n",
       "/* Span, style for the box shown on hovering the info icon */\n",
       ".sk-estimator-doc-link span {\n",
       "  display: none;\n",
       "  z-index: 9999;\n",
       "  position: relative;\n",
       "  font-weight: normal;\n",
       "  right: .2ex;\n",
       "  padding: .5ex;\n",
       "  margin: .5ex;\n",
       "  width: min-content;\n",
       "  min-width: 20ex;\n",
       "  max-width: 50ex;\n",
       "  color: var(--sklearn-color-text);\n",
       "  box-shadow: 2pt 2pt 4pt #999;\n",
       "  /* unfitted */\n",
       "  background: var(--sklearn-color-unfitted-level-0);\n",
       "  border: .5pt solid var(--sklearn-color-unfitted-level-3);\n",
       "}\n",
       "\n",
       ".sk-estimator-doc-link.fitted span {\n",
       "  /* fitted */\n",
       "  background: var(--sklearn-color-fitted-level-0);\n",
       "  border: var(--sklearn-color-fitted-level-3);\n",
       "}\n",
       "\n",
       ".sk-estimator-doc-link:hover span {\n",
       "  display: block;\n",
       "}\n",
       "\n",
       "/* \"?\"-specific style due to the `<a>` HTML tag */\n",
       "\n",
       "#sk-container-id-1 a.estimator_doc_link {\n",
       "  float: right;\n",
       "  font-size: 1rem;\n",
       "  line-height: 1em;\n",
       "  font-family: monospace;\n",
       "  background-color: var(--sklearn-color-background);\n",
       "  border-radius: 1rem;\n",
       "  height: 1rem;\n",
       "  width: 1rem;\n",
       "  text-decoration: none;\n",
       "  /* unfitted */\n",
       "  color: var(--sklearn-color-unfitted-level-1);\n",
       "  border: var(--sklearn-color-unfitted-level-1) 1pt solid;\n",
       "}\n",
       "\n",
       "#sk-container-id-1 a.estimator_doc_link.fitted {\n",
       "  /* fitted */\n",
       "  border: var(--sklearn-color-fitted-level-1) 1pt solid;\n",
       "  color: var(--sklearn-color-fitted-level-1);\n",
       "}\n",
       "\n",
       "/* On hover */\n",
       "#sk-container-id-1 a.estimator_doc_link:hover {\n",
       "  /* unfitted */\n",
       "  background-color: var(--sklearn-color-unfitted-level-3);\n",
       "  color: var(--sklearn-color-background);\n",
       "  text-decoration: none;\n",
       "}\n",
       "\n",
       "#sk-container-id-1 a.estimator_doc_link.fitted:hover {\n",
       "  /* fitted */\n",
       "  background-color: var(--sklearn-color-fitted-level-3);\n",
       "}\n",
       "</style><div id=\"sk-container-id-1\" class=\"sk-top-container\"><div class=\"sk-text-repr-fallback\"><pre>LinearRegression()</pre><b>In a Jupyter environment, please rerun this cell to show the HTML representation or trust the notebook. <br />On GitHub, the HTML representation is unable to render, please try loading this page with nbviewer.org.</b></div><div class=\"sk-container\" hidden><div class=\"sk-item\"><div class=\"sk-estimator fitted sk-toggleable\"><input class=\"sk-toggleable__control sk-hidden--visually\" id=\"sk-estimator-id-1\" type=\"checkbox\" checked><label for=\"sk-estimator-id-1\" class=\"sk-toggleable__label fitted sk-toggleable__label-arrow fitted\">&nbsp;&nbsp;LinearRegression<a class=\"sk-estimator-doc-link fitted\" rel=\"noreferrer\" target=\"_blank\" href=\"https://scikit-learn.org/1.4/modules/generated/sklearn.linear_model.LinearRegression.html\">?<span>Documentation for LinearRegression</span></a><span class=\"sk-estimator-doc-link fitted\">i<span>Fitted</span></span></label><div class=\"sk-toggleable__content fitted\"><pre>LinearRegression()</pre></div> </div></div></div></div>"
      ],
      "text/plain": [
       "LinearRegression()"
      ]
     },
     "execution_count": 72,
     "metadata": {},
     "output_type": "execute_result"
    }
   ],
   "source": [
    "LinearReg.fit(x_train,y_train)"
   ]
  },
  {
   "cell_type": "markdown",
   "id": "88d579eb-7840-4f34-9f17-df96c005f9c2",
   "metadata": {},
   "source": [
    "Model Prediction"
   ]
  },
  {
   "cell_type": "code",
   "execution_count": 73,
   "id": "9c67267a-a310-40c0-ace7-ecfafcdeb659",
   "metadata": {},
   "outputs": [
    {
     "data": {
      "text/plain": [
       "array([20318.22115552, 16582.74275644, 14264.29171771,  4566.73778141,\n",
       "       25924.37284195, 16607.86318182, 17925.64362049, 22925.94620764,\n",
       "       41754.05070416, 32831.02692986, 47426.06452448, 19726.38336778,\n",
       "       36815.48519603, 18444.96609235, 23734.48813563, 42343.49425748,\n",
       "        5628.12925969, 42599.77771256,  8864.7144217 , 18605.63284055,\n",
       "       18653.79556952, 38817.44440278,  6772.6306786 , 35899.26141632,\n",
       "       18825.41137965, 20086.15677762, 13186.22131248, 12478.50792244,\n",
       "       24334.50177396, 16959.40848736, 30432.31744113,  5209.21301955,\n",
       "       30466.93937893, 29836.9605869 , 17425.39071649, 19793.72161969,\n",
       "        3130.26100366, 15157.18095963, 13846.98665799, 63553.76557005,\n",
       "       37663.94795119, 30176.03398605, 15896.52922864, 17669.44330929,\n",
       "       15177.13349774, 37125.10375452, 48767.3548737 , 35514.88770813,\n",
       "       40153.13486478, 30070.59091214, 18181.92707558, 10607.13014091,\n",
       "       17342.60077242, 11801.03739277, 42401.54295077, 42939.83814334,\n",
       "       26482.50924601, 35096.3855312 , 57519.04832725, 31664.06447525,\n",
       "       17139.89111485, 18730.75164369, 22823.9287955 , 16978.58356051,\n",
       "       14251.64881004, 18910.0790246 , 48367.81921934, 37318.97268378,\n",
       "       36927.76389225, 25143.31552163, 31732.91492903, 24076.48897694,\n",
       "       24346.15550592, 40024.73466085, 21484.00439013, 15177.08002165,\n",
       "       53753.68645141, 22048.96787083, 16883.60765977, 20342.44023271,\n",
       "       33344.58712668,  7302.49387987])"
      ]
     },
     "execution_count": 73,
     "metadata": {},
     "output_type": "execute_result"
    }
   ],
   "source": [
    "y_pred = LinearReg.predict(x_test)\n",
    "y_pred"
   ]
  },
  {
   "cell_type": "markdown",
   "id": "3b6c8de1-0525-4fb7-96bb-672c69869695",
   "metadata": {},
   "source": [
    "#Model Evaluation"
   ]
  },
  {
   "cell_type": "code",
   "execution_count": 74,
   "id": "4a042d6b-c551-4445-9dde-1d5fe9c8e246",
   "metadata": {},
   "outputs": [],
   "source": [
    "from sklearn.metrics import r2_score,mean_squared_error"
   ]
  },
  {
   "cell_type": "code",
   "execution_count": 75,
   "id": "d42e2640-06ed-4295-b57c-0ec97368dc2b",
   "metadata": {},
   "outputs": [
    {
     "data": {
      "text/plain": [
       "0.7252807814852267"
      ]
     },
     "execution_count": 75,
     "metadata": {},
     "output_type": "execute_result"
    }
   ],
   "source": [
    "r2_score(y_test,y_pred)"
   ]
  },
  {
   "cell_type": "code",
   "execution_count": 76,
   "id": "81a5b762-46f3-4d8d-b32d-202b035c7dae",
   "metadata": {},
   "outputs": [
    {
     "data": {
      "text/plain": [
       "70185499.56097955"
      ]
     },
     "execution_count": 76,
     "metadata": {},
     "output_type": "execute_result"
    }
   ],
   "source": [
    "mse = mean_squared_error(y_test,y_pred)\n",
    "mse"
   ]
  },
  {
   "cell_type": "code",
   "execution_count": 78,
   "id": "7570022e-30e8-4e0f-aaf2-bcd652cc55a5",
   "metadata": {},
   "outputs": [
    {
     "data": {
      "text/plain": [
       "8377.678649899359"
      ]
     },
     "execution_count": 78,
     "metadata": {},
     "output_type": "execute_result"
    }
   ],
   "source": [
    "RMSE = (mse)**0.5\n",
    "RMSE"
   ]
  },
  {
   "cell_type": "code",
   "execution_count": null,
   "id": "17e2e61b-a529-4613-ada0-013e19e26558",
   "metadata": {},
   "outputs": [],
   "source": []
  }
 ],
 "metadata": {
  "kernelspec": {
   "display_name": "Python 3 (ipykernel)",
   "language": "python",
   "name": "python3"
  },
  "language_info": {
   "codemirror_mode": {
    "name": "ipython",
    "version": 3
   },
   "file_extension": ".py",
   "mimetype": "text/x-python",
   "name": "python",
   "nbconvert_exporter": "python",
   "pygments_lexer": "ipython3",
   "version": "3.12.2"
  }
 },
 "nbformat": 4,
 "nbformat_minor": 5
}
